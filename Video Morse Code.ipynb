{
 "cells": [
  {
   "cell_type": "markdown",
   "metadata": {},
   "source": [
    "# Art With a Message\n",
    "\n",
    "In August of 2018, while walking around UCSD, I noticed a large, blinking light atop Urey Hall. Observing the flashes, it became clear quite quickly that it was blinking Morse Code. The question was, what did it say? Not being fluent in Morse, I captured the flashes the best I could with my phone in hopes of decoding the message offline.\n",
    "\n",
    "The thought of watching a video over and over trying to decode dots and dashes from a signal lamp did not leave me terribly excited, so I decided to try doing it programmatically. Some thresholding, a little Forier Analysis, filtering, and a Morse Code tree should tease out the message from the video. Overall, a great project for learning some OpenCV. Sadly, my shaky cell phone video was not conducive to being easily analysed, so I vowed to return with a tripod and a better camera for some solid video.\n",
    "\n",
    "Unfortunately, the light disappeared after that. Until November, when it was mounted on a light pole between Urey Hall and Mayer Hall, signalling proudly above campus. I got as high and as close as I could and still have a view of the light -- the top level of the molecular bridge between Bonner and Mayer Halls -- and set up my tripod and camera with my largest lens to record around 10 minutes of video. Since I was shooting with a \"real\" camera instead of my phone, I stopped down the aperture and quickened the shutter speed to get a nice, stable, contrasty video (exceptin' the bounce when I pressed the record button).\n",
    "\n",
    "When I got to my computer, I shrunk the video down to a more managable, yet viewable size, and stripped the audio. It looked like this, only the lights blinked:\n",
    "\n",
    "![morse tower movie](20181110-thumbnail.png)\n",
    "\n",
    "I actually made a grayscale version of the video, because it's easier to play with (only one set of magnitudes to deal with instead of three). Video conversions were done with ffmpeg, because ffmpeg is awesome.\n",
    "\n",
    "With some usable video captured, the first thing to do was to make an OpenCV environment in Anaconda so I could play around in a Jupyter Notebook. On Linux, that's simple enough, since OpenCV is included.\n",
    "\n",
    "```\n",
    "$ conda create --name opencv\n",
    "$ source activate opencv\n",
    "$ conda install -n opencv opencv matplotlib\n",
    "$ jupyter notebook\n",
    "```\n",
    "\n",
    "Once we created a notebook to play in (this very one!), we could import our libraries, and switch to present tense in our narrative."
   ]
  },
  {
   "cell_type": "code",
   "execution_count": 1,
   "metadata": {},
   "outputs": [],
   "source": [
    "import numpy as np\n",
    "import matplotlib.pyplot as plt\n",
    "import cv2"
   ]
  },
  {
   "cell_type": "code",
   "execution_count": 2,
   "metadata": {},
   "outputs": [
    {
     "data": {
      "text/plain": [
       "'3.4.2'"
      ]
     },
     "execution_count": 2,
     "metadata": {},
     "output_type": "execute_result"
    }
   ],
   "source": [
    "cv2.__version__"
   ]
  },
  {
   "cell_type": "markdown",
   "metadata": {},
   "source": [
    "## Getting Our Feet Wet"
   ]
  },
  {
   "cell_type": "markdown",
   "metadata": {},
   "source": [
    "First thing first, we need to be able to read our video. According to the \n",
    "[OpenCV Python Video tutorial](https://docs.opencv.org/3.0-beta/doc/py_tutorials/py_gui/py_video_display/py_video_display.html),\n",
    "that's just a matter of calling `cv2.VideoCapture()` with the path to the file as an argument. As long as `cap.isOpened()` is `True`, we are playing with video data."
   ]
  },
  {
   "cell_type": "code",
   "execution_count": 3,
   "metadata": {},
   "outputs": [
    {
     "data": {
      "text/plain": [
       "True"
      ]
     },
     "execution_count": 3,
     "metadata": {},
     "output_type": "execute_result"
    }
   ],
   "source": [
    "video = '20181110-854x480-gray.mov'\n",
    "cap = cv2.VideoCapture(video)\n",
    "cap.isOpened()"
   ]
  },
  {
   "cell_type": "code",
   "execution_count": 4,
   "metadata": {},
   "outputs": [
    {
     "data": {
      "text/plain": [
       "(True, numpy.ndarray)"
      ]
     },
     "execution_count": 4,
     "metadata": {},
     "output_type": "execute_result"
    }
   ],
   "source": [
    "ret, frame = cap.read()\n",
    "ret, type(frame)"
   ]
  },
  {
   "cell_type": "markdown",
   "metadata": {},
   "source": [
    "So the frame is an ndarray. At this point, we're essentially playing in numpy. So much for learning much OpenCV."
   ]
  },
  {
   "cell_type": "code",
   "execution_count": 5,
   "metadata": {},
   "outputs": [],
   "source": [
    "cap.release()"
   ]
  },
  {
   "cell_type": "markdown",
   "metadata": {},
   "source": [
    "## Analysing the Data\n",
    "\n",
    "Our first attack is going to be a simple threshold on the max value of the video frame. To make things even easier on us, we can crop the video so it only contains the highest contrast part. Specifically, the contents of the red box in this image:\n",
    "\n",
    "![Crop area](20181110-crop.png)\n",
    "\n",
    "Using our favorite image editing program, we know that the coordinates of the upper left corner of that box is at 440, 190, and it's 15 pixels wide and 60 pixels tall. Exactly the information ffmpeg needs to crop the video for us.\n",
    "\n",
    "```$ ffmpeg -i 20181110-854x4800-gray.mov -vf crop=15:60:440:190 20181110-crop.mov```"
   ]
  },
  {
   "cell_type": "code",
   "execution_count": 6,
   "metadata": {},
   "outputs": [],
   "source": [
    "def frame_maxes(fname):\n",
    "    \"\"\" Generate the max values in each frame of the video file `fname`\"\"\"\n",
    "    cap = cv2.VideoCapture(fname)\n",
    "    while True:\n",
    "        ret, frame = cap.read()\n",
    "        if ret:\n",
    "            yield np.max(frame)\n",
    "        else:\n",
    "            break\n",
    "            \n",
    "    cap.release()\n",
    "        \n",
    "# Max values as an ndarray.        \n",
    "video = '20181110-crop.mov'\n",
    "fmax = np.array([m for m in frame_maxes(video)], dtype=int)"
   ]
  },
  {
   "cell_type": "code",
   "execution_count": 7,
   "metadata": {},
   "outputs": [],
   "source": [
    "%matplotlib inline"
   ]
  },
  {
   "cell_type": "code",
   "execution_count": 8,
   "metadata": {},
   "outputs": [
    {
     "data": {
      "text/plain": [
       "Text(0,0.5,'Max pixel value')"
      ]
     },
     "execution_count": 8,
     "metadata": {},
     "output_type": "execute_result"
    },
    {
     "data": {
      "image/png": "[encoded data removed]",
      "text/plain": [
       "<Figure size 432x288 with 1 Axes>"
      ]
     },
     "metadata": {},
     "output_type": "display_data"
    }
   ],
   "source": [
    "fig = plt.figure()\n",
    "width=200\n",
    "ax = fig.add_subplot(111)\n",
    "ax.plot(np.arange(width), fmax[:width])\n",
    "ax.set_title('Max intensity in frame')\n",
    "ax.set_xlabel('Frame')\n",
    "ax.set_ylabel('Max pixel value')"
   ]
  },
  {
   "cell_type": "markdown",
   "metadata": {},
   "source": [
    "This looks very promising. Looks like we can threshold the max values to determine our on/off points."
   ]
  },
  {
   "cell_type": "code",
   "execution_count": 9,
   "metadata": {},
   "outputs": [],
   "source": [
    "threshold = 125\n",
    "signal = fmax > threshold"
   ]
  },
  {
   "cell_type": "code",
   "execution_count": 10,
   "metadata": {},
   "outputs": [
    {
     "data": {
      "text/plain": [
       "Text(0,0.5,'Signal (high/low)')"
      ]
     },
     "execution_count": 10,
     "metadata": {},
     "output_type": "execute_result"
    },
    {
     "data": {
      "image/png": "[encoded data removed]",
      "text/plain": [
       "<Figure size 432x288 with 1 Axes>"
      ]
     },
     "metadata": {},
     "output_type": "display_data"
    }
   ],
   "source": [
    "fig = plt.figure()\n",
    "ax = fig.add_subplot(111)\n",
    "ax.plot(np.arange(width), signal[:width])\n",
    "ax.set_title('Signal value by frame')\n",
    "ax.set_xlabel('Frame')\n",
    "ax.set_ylabel('Signal (high/low)')"
   ]
  },
  {
   "cell_type": "markdown",
   "metadata": {},
   "source": [
    "To turn this into Morse Code, we need to be able to distingush dots, dashes, letter breaks and word breaks. Each of those is determined by the length of a 'high' or 'low' run, and those runs are determined by the transition edges. So lets find the indexes of the transition edges, and see what our run lengths are."
   ]
  },
  {
   "cell_type": "code",
   "execution_count": 11,
   "metadata": {},
   "outputs": [],
   "source": [
    "signal = signal.astype(int)\n",
    "edges = signal[1:] - signal[:-1]\n",
    "edge_idx = np.where(edges != 0)[0]"
   ]
  },
  {
   "cell_type": "code",
   "execution_count": 12,
   "metadata": {},
   "outputs": [],
   "source": [
    "def signal_runs(edges, edge_idx):\n",
    "    \"\"\"Returns number of frames each 'high' and 'low' run are.\"\"\"\n",
    "    runs = edge_idx - np.concatenate((np.array([0], dtype=int), edge_idx[:-1]))\n",
    "    if edges[edge_idx[0]] > 0:\n",
    "        # First transition was low to high.\n",
    "        highs = runs[1::2]\n",
    "        lows = runs[::2]\n",
    "    else:\n",
    "        # First transition was high to low.\n",
    "        highs = runs[::2]\n",
    "        lows = runs[1::2]\n",
    "        \n",
    "    return highs, lows"
   ]
  },
  {
   "cell_type": "code",
   "execution_count": 13,
   "metadata": {},
   "outputs": [],
   "source": [
    "highs, lows = signal_runs(edges, edge_idx)"
   ]
  },
  {
   "cell_type": "code",
   "execution_count": 14,
   "metadata": {},
   "outputs": [
    {
     "data": {
      "text/plain": [
       "Text(0,0.5,'Count')"
      ]
     },
     "execution_count": 14,
     "metadata": {},
     "output_type": "execute_result"
    },
    {
     "data": {
      "image/png": "[encoded data removed]",
      "text/plain": [
       "<Figure size 432x288 with 2 Axes>"
      ]
     },
     "metadata": {},
     "output_type": "display_data"
    }
   ],
   "source": [
    "high_hist, high_edges = np.histogram(highs, bins=np.arange(highs.max() + 1))\n",
    "low_hist, low_edges = np.histogram(lows, bins=np.arange(lows.max() + 1))\n",
    "fig, ax = plt.subplots(2, 1, constrained_layout=True)\n",
    "ax[0].bar(high_edges[:-1], high_hist)\n",
    "ax[0].set_title('Highs')\n",
    "ax[0].set_xlabel('Duration (frames)')\n",
    "ax[0].set_ylabel('Count')\n",
    "ax[1].bar(low_edges[:-1], low_hist)\n",
    "ax[1].set_title('Lows')\n",
    "ax[1].set_xlabel('Duration (frames)')\n",
    "ax[1].set_ylabel('Count')"
   ]
  },
  {
   "cell_type": "markdown",
   "metadata": {},
   "source": [
    "'High' run durations are mostly 6 or 18 frames in length, which makes sense since a 'dash' is supposed to be three times longer than a 'dot' in Morse Code. 'Low' run durations are mostly 6, 18, and 43 frames in length, corresponding to 'high' signal separations, symbol separations, and word separations respectively.\n",
    "\n",
    "We have all the information we need. Now we need a function to decode it all."
   ]
  },
  {
   "cell_type": "markdown",
   "metadata": {},
   "source": [
    "## Decoding the Message"
   ]
  },
  {
   "cell_type": "code",
   "execution_count": 15,
   "metadata": {},
   "outputs": [],
   "source": [
    "def morse_decode(edges, edge_idx, dot_dash_boundary, dash_space_boundary):\n",
    "    \"\"\"Decode Morse Code message in `edges` and `edge_idx`.\"\"\"\n",
    "    morse_lookup = {\n",
    "        '.-': 'A',\n",
    "        '-...': 'B',\n",
    "        '-.-.': 'C',\n",
    "        '-..': 'D',\n",
    "        '.': 'E',\n",
    "        '..-.': 'F',\n",
    "        '--.': 'G',\n",
    "        '....': 'H',\n",
    "        '..': 'I',\n",
    "        '.---': 'J',\n",
    "        '-.-': 'K',\n",
    "        '.-..': 'L',\n",
    "        '--': 'M',\n",
    "        '-.': 'N',\n",
    "        '---': 'O',\n",
    "        '.--.': 'P',\n",
    "        '--.-': 'Q',\n",
    "        '.-.': 'R',\n",
    "        '...': 'S',\n",
    "        '-': 'T',\n",
    "        '..-': 'U',\n",
    "        '...-': 'V',\n",
    "        '.--': 'W',\n",
    "        '-..-': 'X',\n",
    "        '-.--': 'Y',\n",
    "        '--..': 'Z',\n",
    "        '.----': '1',\n",
    "        '..---': '2',\n",
    "        '...--': '3',\n",
    "        '....-': '4',\n",
    "        '.....': '5',\n",
    "        '-....': '6',\n",
    "        '--...': '7',\n",
    "        '---..': '8',\n",
    "        '----.': '9',\n",
    "        '-----': '0'\n",
    "    }\n",
    "    \n",
    "    message = []\n",
    "    morse = []\n",
    "    signal_high = edges[edge_idx[0]] < 0\n",
    "    durations = edge_idx - np.concatenate((np.array([0], dtype=int), edge_idx[:-1]))\n",
    "\n",
    "    for duration in durations.tolist():\n",
    "        if signal_high:\n",
    "            # `duration` is for a 'high' signal.\n",
    "            morse.append('.' if duration < dot_dash_boundary else '-')\n",
    "        else:\n",
    "            # `duration` is for a 'low' signal.\n",
    "            # We can ignore signal ('.'/'-') boundaries.\n",
    "            if duration > dot_dash_boundary:\n",
    "                # Symbol boundary. Decode.\n",
    "                message.append(morse_lookup.get(''.join(morse), '?'))\n",
    "                morse = []  # Reset signal aggregation.\n",
    "                if duration > dash_space_boundary:\n",
    "                    # Word boundary. Inject word break into message.\n",
    "                    message.append(' ')\n",
    "                    \n",
    "        signal_high = not signal_high\n",
    "            \n",
    "    return ''.join(message)    "
   ]
  },
  {
   "cell_type": "code",
   "execution_count": 16,
   "metadata": {},
   "outputs": [
    {
     "data": {
      "text/plain": [
       "'WUGHT WHAT HATH GOD WROUGLT WHAT HATH GOD WROUGHT WHAT HATH GOD WROUGHT WHAT HATH GOD WROUGHT WHAT HATH GOD WROUGHT WHAT HATH GOD WROUGHT WHAT HATH GOD WROUGHT EMHAT HATH GOD WROUGHT WHAT HATH GOD WROUGHT WHAT HATH GOD WROUGHT WHAT HATH GOD WROUGHT WHAT HATH GOD WROUGHT WHAT HATH GOD WROUGHT WHAT HATH GOD WROUGHT WHAT HATH GOD WROUGHT WHAT HATH GOD WROUGHT WHAT HATH GOD WROUGHT WH'"
      ]
     },
     "execution_count": 16,
     "metadata": {},
     "output_type": "execute_result"
    }
   ],
   "source": [
    "morse_decode(edges, edge_idx, 10, 30)"
   ]
  },
  {
   "cell_type": "markdown",
   "metadata": {},
   "source": [
    "[\"What hath god wrought\"](https://en.wikipedia.org/wiki/Baltimore%E2%80%93Washington_telegraph_line), an appropriate first message for a Morse signalling lamp. No doubt UCSD will change the message occasionally.\n",
    "\n"
   ]
  }
 ],
 "metadata": {
  "kernelspec": {
   "display_name": "Python [conda env:opencv]",
   "language": "python",
   "name": "conda-env-opencv-py"
  },
  "language_info": {
   "codemirror_mode": {
    "name": "ipython",
    "version": 3
   },
   "file_extension": ".py",
   "mimetype": "text/x-python",
   "name": "python",
   "nbconvert_exporter": "python",
   "pygments_lexer": "ipython3",
   "version": "3.7.0"
  }
 },
 "nbformat": 4,
 "nbformat_minor": 2
}
